{
 "cells": [
  {
   "cell_type": "code",
   "execution_count": 3,
   "id": "3b80d4b1",
   "metadata": {},
   "outputs": [],
   "source": [
    "import pandas as pd\n",
    "from datetime import datetime\n",
    "import numpy as np\n",
    "import matplotlib.pyplot as plt\n",
    "import seaborn as sns"
   ]
  },
  {
   "cell_type": "code",
   "execution_count": 4,
   "id": "2319ebc8",
   "metadata": {},
   "outputs": [],
   "source": [
    "df = pd.read_excel('Data Model - Pizza Sales.xlsx')"
   ]
  },
  {
   "cell_type": "code",
   "execution_count": 5,
   "id": "4e284b18",
   "metadata": {},
   "outputs": [
    {
     "data": {
      "text/plain": [
       "Index(['order_details_id', 'order_id', 'pizza_id', 'quantity', 'order_date',\n",
       "       'order_time', 'unit_price', 'total_price', 'pizza_size',\n",
       "       'pizza_category', 'pizza_ingredients', 'pizza_name'],\n",
       "      dtype='object')"
      ]
     },
     "execution_count": 5,
     "metadata": {},
     "output_type": "execute_result"
    }
   ],
   "source": [
    "df.columns"
   ]
  },
  {
   "cell_type": "code",
   "execution_count": 6,
   "id": "2ebf1543",
   "metadata": {},
   "outputs": [
    {
     "data": {
      "text/plain": [
       "(48620, 12)"
      ]
     },
     "execution_count": 6,
     "metadata": {},
     "output_type": "execute_result"
    }
   ],
   "source": [
    "df.shape"
   ]
  },
  {
   "cell_type": "code",
   "execution_count": 7,
   "id": "83d73cda",
   "metadata": {},
   "outputs": [
    {
     "data": {
      "text/plain": [
       "<bound method NDFrame.describe of        order_details_id  order_id       pizza_id  quantity order_date  \\\n",
       "0                     1         1     hawaiian_m         1 2015-01-01   \n",
       "1                     2         2  classic_dlx_m         1 2015-01-01   \n",
       "2                     3         2  five_cheese_l         1 2015-01-01   \n",
       "3                     4         2    ital_supr_l         1 2015-01-01   \n",
       "4                     5         2     mexicana_m         1 2015-01-01   \n",
       "...                 ...       ...            ...       ...        ...   \n",
       "48615             48616     21348  ckn_alfredo_m         1 2015-12-31   \n",
       "48616             48617     21348  four_cheese_l         1 2015-12-31   \n",
       "48617             48618     21348   napolitana_s         1 2015-12-31   \n",
       "48618             48619     21349     mexicana_l         1 2015-12-31   \n",
       "48619             48620     21350      bbq_ckn_s         1 2015-12-31   \n",
       "\n",
       "      order_time  unit_price  total_price pizza_size pizza_category  \\\n",
       "0       11:38:36       13.25        13.25          M        Classic   \n",
       "1       11:57:40       16.00        16.00          M        Classic   \n",
       "2       11:57:40       18.50        18.50          L         Veggie   \n",
       "3       11:57:40       20.75        20.75          L        Supreme   \n",
       "4       11:57:40       16.00        16.00          M         Veggie   \n",
       "...          ...         ...          ...        ...            ...   \n",
       "48615   21:23:10       16.75        16.75          M        Chicken   \n",
       "48616   21:23:10       17.95        17.95          L         Veggie   \n",
       "48617   21:23:10       12.00        12.00          S        Classic   \n",
       "48618   22:09:54       20.25        20.25          L         Veggie   \n",
       "48619   23:02:05       12.75        12.75          S        Chicken   \n",
       "\n",
       "                                       pizza_ingredients  \\\n",
       "0               Sliced Ham, Pineapple, Mozzarella Cheese   \n",
       "1      Pepperoni, Mushrooms, Red Onions, Red Peppers,...   \n",
       "2      Mozzarella Cheese, Provolone Cheese, Smoked Go...   \n",
       "3      Calabrese Salami, Capocollo, Tomatoes, Red Oni...   \n",
       "4      Tomatoes, Red Peppers, Jalapeno Peppers, Red O...   \n",
       "...                                                  ...   \n",
       "48615  Chicken, Red Onions, Red Peppers, Mushrooms, A...   \n",
       "48616  Ricotta Cheese, Gorgonzola Piccante Cheese, Mo...   \n",
       "48617  Tomatoes, Anchovies, Green Olives, Red Onions,...   \n",
       "48618  Tomatoes, Red Peppers, Jalapeno Peppers, Red O...   \n",
       "48619  Barbecued Chicken, Red Peppers, Green Peppers,...   \n",
       "\n",
       "                       pizza_name  \n",
       "0              The Hawaiian Pizza  \n",
       "1        The Classic Deluxe Pizza  \n",
       "2           The Five Cheese Pizza  \n",
       "3       The Italian Supreme Pizza  \n",
       "4              The Mexicana Pizza  \n",
       "...                           ...  \n",
       "48615   The Chicken Alfredo Pizza  \n",
       "48616       The Four Cheese Pizza  \n",
       "48617        The Napolitana Pizza  \n",
       "48618          The Mexicana Pizza  \n",
       "48619  The Barbecue Chicken Pizza  \n",
       "\n",
       "[48620 rows x 12 columns]>"
      ]
     },
     "execution_count": 7,
     "metadata": {},
     "output_type": "execute_result"
    }
   ],
   "source": [
    "df.describe"
   ]
  },
  {
   "cell_type": "code",
   "execution_count": 18,
   "id": "e905878a",
   "metadata": {},
   "outputs": [
    {
     "data": {
      "text/plain": [
       "32"
      ]
     },
     "execution_count": 18,
     "metadata": {},
     "output_type": "execute_result"
    }
   ],
   "source": [
    "df['pizza_name'].nunique()"
   ]
  },
  {
   "cell_type": "code",
   "execution_count": 11,
   "id": "2fc4fd57",
   "metadata": {},
   "outputs": [
    {
     "data": {
      "text/plain": [
       "pizza_name\n",
       "The Classic Deluxe Pizza                      2416\n",
       "The Barbecue Chicken Pizza                    2372\n",
       "The Hawaiian Pizza                            2370\n",
       "The Pepperoni Pizza                           2369\n",
       "The Thai Chicken Pizza                        2315\n",
       "The California Chicken Pizza                  2302\n",
       "The Spicy Italian Pizza                       1887\n",
       "The Sicilian Pizza                            1887\n",
       "The Southwest Chicken Pizza                   1885\n",
       "The Four Cheese Pizza                         1850\n",
       "The Italian Supreme Pizza                     1849\n",
       "The Big Meat Pizza                            1811\n",
       "The Vegetables + Vegetables Pizza             1510\n",
       "The Mexicana Pizza                            1456\n",
       "The Napolitana Pizza                          1451\n",
       "The Spinach and Feta Pizza                    1432\n",
       "The Prosciutto and Arugula Pizza              1428\n",
       "The Pepper Salami Pizza                       1422\n",
       "The Italian Capocollo Pizza                   1414\n",
       "The Greek Pizza                               1406\n",
       "The Five Cheese Pizza                         1359\n",
       "The Pepperoni, Mushroom, and Peppers Pizza    1342\n",
       "The Green Garden Pizza                         987\n",
       "The Chicken Alfredo Pizza                      980\n",
       "The Italian Vegetables Pizza                   975\n",
       "The Chicken Pesto Pizza                        961\n",
       "The Soppressata Pizza                          957\n",
       "The Spinach Pesto Pizza                        957\n",
       "The Spinach Supreme Pizza                      940\n",
       "The Calabrese Pizza                            927\n",
       "The Mediterranean Pizza                        923\n",
       "The Brie Carre Pizza                           480\n",
       "Name: count, dtype: int64"
      ]
     },
     "execution_count": 11,
     "metadata": {},
     "output_type": "execute_result"
    }
   ],
   "source": [
    "df['pizza_name'].value_counts()"
   ]
  },
  {
   "cell_type": "code",
   "execution_count": 5,
   "id": "e04166fd",
   "metadata": {},
   "outputs": [
    {
     "name": "stdout",
     "output_type": "stream",
     "text": [
      "Anual revenue: 817860.05 €\n",
      "Anual demand: 49574\n"
     ]
    }
   ],
   "source": [
    "total_revenue = df['total_price'].sum()\n",
    "print('Anual revenue:', total_revenue, '€')\n",
    "total_quantity = df['quantity'].sum()\n",
    "print('Anual demand:', total_quantity)"
   ]
  },
  {
   "cell_type": "code",
   "execution_count": 6,
   "id": "cd831c10",
   "metadata": {},
   "outputs": [
    {
     "data": {
      "text/plain": [
       "pizza_size\n",
       "L      18526\n",
       "M      15385\n",
       "S      14137\n",
       "XL       544\n",
       "XXL       28\n",
       "Name: count, dtype: int64"
      ]
     },
     "execution_count": 6,
     "metadata": {},
     "output_type": "execute_result"
    }
   ],
   "source": [
    "df['pizza_size'].value_counts(ascending=False)"
   ]
  },
  {
   "cell_type": "code",
   "execution_count": 19,
   "id": "8f023e57",
   "metadata": {},
   "outputs": [
    {
     "data": {
      "text/plain": [
       "pizza_ingredients\n",
       "Pepperoni, Mushrooms, Red Onions, Red Peppers, Bacon                                                 2416\n",
       "Barbecued Chicken, Red Peppers, Green Peppers, Tomatoes, Red Onions, Barbecue Sauce                  2372\n",
       "Sliced Ham, Pineapple, Mozzarella Cheese                                                             2370\n",
       "Mozzarella Cheese, Pepperoni                                                                         2369\n",
       "Chicken, Pineapple, Tomatoes, Red Peppers, Thai Sweet Chilli Sauce                                   2315\n",
       "Chicken, Artichoke, Spinach, Garlic, Jalapeno Peppers, Fontina Cheese, Gouda Cheese                  2302\n",
       "Capocollo, Tomatoes, Goat Cheese, Artichokes, Peperoncini verdi, Garlic                              1887\n",
       "Coarse Sicilian Salami, Tomatoes, Green Olives, Luganega Sausage, Onions, Garlic                     1887\n",
       "Chicken, Tomatoes, Red Peppers, Red Onions, Jalapeno Peppers, Corn, Cilantro, Chipotle Sauce         1885\n",
       "Ricotta Cheese, Gorgonzola Piccante Cheese, Mozzarella Cheese, Parmigiano Reggiano Cheese, Garlic    1850\n",
       "Calabrese Salami, Capocollo, Tomatoes, Red Onions, Green Olives, Garlic                              1849\n",
       "Bacon, Pepperoni, Italian Sausage, Chorizo Sausage                                                   1811\n",
       "Mushrooms, Tomatoes, Red Peppers, Green Peppers, Red Onions, Zucchini, Spinach, Garlic               1510\n",
       "Tomatoes, Red Peppers, Jalapeno Peppers, Red Onions, Cilantro, Corn, Chipotle Sauce, Garlic          1456\n",
       "Tomatoes, Anchovies, Green Olives, Red Onions, Garlic                                                1451\n",
       "Spinach, Mushrooms, Red Onions, Feta Cheese, Garlic                                                  1432\n",
       "Prosciutto di San Daniele, Arugula, Mozzarella Cheese                                                1428\n",
       "Genoa Salami, Capocollo, Pepperoni, Tomatoes, Asiago Cheese, Garlic                                  1422\n",
       "Capocollo, Red Peppers, Tomatoes, Goat Cheese, Garlic, Oregano                                       1414\n",
       "Kalamata Olives, Feta Cheese, Tomatoes, Garlic, Beef Chuck Roast, Red Onions                         1406\n",
       "Mozzarella Cheese, Provolone Cheese, Smoked Gouda Cheese, Romano Cheese, Blue Cheese, Garlic         1359\n",
       "Pepperoni, Mushrooms, Green Peppers                                                                  1342\n",
       "Spinach, Mushrooms, Tomatoes, Green Olives, Feta Cheese                                               987\n",
       "Chicken, Red Onions, Red Peppers, Mushrooms, Asiago Cheese, Alfredo Sauce                             980\n",
       "Eggplant, Artichokes, Tomatoes, Zucchini, Red Peppers, Garlic, Pesto Sauce                            975\n",
       "Chicken, Tomatoes, Red Peppers, Spinach, Garlic, Pesto Sauce                                          961\n",
       "Soppressata Salami, Fontina Cheese, Mozzarella Cheese, Mushrooms, Garlic                              957\n",
       "Spinach, Artichokes, Tomatoes, Sun-dried Tomatoes, Garlic, Pesto Sauce                                957\n",
       "Spinach, Red Onions, Pepperoni, Tomatoes, Artichokes, Kalamata Olives, Garlic, Asiago Cheese          940\n",
       "慛duja Salami, Pancetta, Tomatoes, Red Onions, Friggitello Peppers, Garlic                             927\n",
       "Spinach, Artichokes, Kalamata Olives, Sun-dried Tomatoes, Feta Cheese, Plum Tomatoes, Red Onions      923\n",
       "Brie Carre Cheese, Prosciutto, Caramelized Onions, Pears, Thyme, Garlic                               480\n",
       "Name: count, dtype: int64"
      ]
     },
     "execution_count": 19,
     "metadata": {},
     "output_type": "execute_result"
    }
   ],
   "source": [
    "df['pizza_ingredients'].value_counts(ascending=False)"
   ]
  },
  {
   "cell_type": "code",
   "execution_count": 8,
   "id": "f2ce74ae",
   "metadata": {},
   "outputs": [
    {
     "name": "stdout",
     "output_type": "stream",
     "text": [
      "Zutaten sortiert nach Gesamtmenge:\n",
      "Garlic: 27913x\n",
      "Tomatoes: 27052x\n",
      "Red Onions: 19834x\n",
      "Red Peppers: 16562x\n",
      "Mozzarella Cheese: 10569x\n",
      "Pepperoni: 10540x\n",
      "Spinach: 10166x\n",
      "Mushrooms: 9729x\n",
      "Chicken: 8618x\n",
      "Capocollo: 6692x\n",
      "Green Olives: 6283x\n",
      "Jalapeno Peppers: 5771x\n",
      "Artichokes: 5759x\n",
      "Green Peppers: 5317x\n",
      "Feta Cheese: 4797x\n",
      "Pineapple: 4793x\n",
      "Bacon: 4367x\n",
      "Cilantro: 3401x\n",
      "Corn: 3401x\n",
      "Chipotle Sauce: 3401x\n",
      "Asiago Cheese: 3383x\n",
      "Goat Cheese: 3362x\n",
      "Fontina Cheese: 3331x\n",
      "Kalamata Olives: 3304x\n",
      "Pesto Sauce: 2924x\n",
      "Zucchini: 2507x\n",
      "Barbecued Chicken: 2432x\n",
      "Barbecue Sauce: 2432x\n",
      "Sliced Ham: 2422x\n",
      "Thai Sweet Chilli Sauce: 2371x\n",
      "Artichoke: 2370x\n",
      "Gouda Cheese: 2370x\n",
      "Coarse Sicilian Salami: 1938x\n",
      "Luganega Sausage: 1938x\n",
      "Onions: 1938x\n",
      "Peperoncini verdi: 1924x\n",
      "Italian Sausage: 1914x\n",
      "Chorizo Sausage: 1914x\n",
      "Sun-dried Tomatoes: 1904x\n",
      "Ricotta Cheese: 1902x\n",
      "Gorgonzola Piccante Cheese: 1902x\n",
      "Parmigiano Reggiano Cheese: 1902x\n",
      "Calabrese Salami: 1884x\n",
      "Anchovies: 1464x\n",
      "Prosciutto di San Daniele: 1457x\n",
      "Arugula: 1457x\n",
      "Genoa Salami: 1446x\n",
      "Oregano: 1438x\n",
      "Beef Chuck Roast: 1420x\n",
      "Provolone Cheese: 1409x\n",
      "Smoked Gouda Cheese: 1409x\n",
      "Romano Cheese: 1409x\n",
      "Blue Cheese: 1409x\n",
      "Alfredo Sauce: 987x\n",
      "Eggplant: 981x\n",
      "Soppressata Salami: 961x\n",
      "慛duja Salami: 937x\n",
      "Pancetta: 937x\n",
      "Friggitello Peppers: 937x\n",
      "Plum Tomatoes: 934x\n",
      "Brie Carre Cheese: 490x\n",
      "Prosciutto: 490x\n",
      "Caramelized Onions: 490x\n",
      "Pears: 490x\n",
      "Thyme: 490x\n"
     ]
    }
   ],
   "source": [
    "word_counter = {} #dictionary anlegen\n",
    "\n",
    "# Durch jede Zeile des DataFrames gehen\n",
    "for i in range(len(df)): #range function gives a sequence of numbers (one number is the stop index) len() function gives the numbers of rows in the df\n",
    "    zutaten_string = df.at[i, 'pizza_ingredients'] #label based lookup (i is row, ingredients is column)\n",
    "    menge = df.at[i, 'quantity']                     # Menge in dieser Zeile durch i row und 'quantity' als column\n",
    "    zutaten_liste = zutaten_string.split(', ')        # Zutaten als Liste (gesplittet per \", \")\n",
    "\n",
    "    # Jede einzelne Zutat in der Liste zählen, gewichtet mit Menge\n",
    "    for zutat in zutaten_liste:\n",
    "        if zutat in word_counter:\n",
    "            word_counter[zutat] += menge              # Wenn Zutat schon vorhanden → Menge addieren\n",
    "        else:\n",
    "            word_counter[zutat] = menge               # Wenn neue Zutat → neu anlegen mit Menge\n",
    "\n",
    "\n",
    "zutaten_sorted = sorted(word_counter.items(), key=lambda x: x[1], reverse=True)\n",
    "\n",
    "gesamtmenge = sum(word_counter.values())\n",
    "\n",
    "print(\"Zutaten sortiert nach Gesamtmenge:\")\n",
    "for zutat, anzahl in zutaten_sorted:\n",
    "    print(f\"{zutat}: {anzahl}x\")\n"
   ]
  },
  {
   "cell_type": "code",
   "execution_count": 20,
   "id": "03010dd4",
   "metadata": {},
   "outputs": [
    {
     "name": "stdout",
     "output_type": "stream",
     "text": [
      "Garlic is used in 20 unique pizza recipes, which is 62.5%.\n",
      "Tomatoes is used in 19 unique pizza recipes, which is 59.375%.\n",
      "Red Onions is used in 13 unique pizza recipes, which is 40.625%.\n"
     ]
    }
   ],
   "source": [
    "# Count unique pizza recipes that use garlic\n",
    "total_pizza_recipes = df['pizza_name'].nunique()\n",
    "\n",
    "garlic_pizzas = df[df['pizza_ingredients'].str.contains('garlic', case=False, na=False)]['pizza_name'].nunique()\n",
    "print(f\"Garlic is used in {garlic_pizzas} unique pizza recipes, which is {garlic_pizzas/total_pizza_recipes*100}%.\")\n",
    "\n",
    "tomatoes_pizzas = df[df['pizza_ingredients'].str.contains('tomatoes', case=False, na=False)]['pizza_name'].nunique()\n",
    "print(f\"Tomatoes is used in {tomatoes_pizzas} unique pizza recipes, which is {tomatoes_pizzas/total_pizza_recipes*100}%.\")\n",
    "\n",
    "redonions_pizzas = df[df['pizza_ingredients'].str.contains('Red Onions', case=False, na=False)]['pizza_name'].nunique()\n",
    "print(f\"Red Onions is used in {redonions_pizzas} unique pizza recipes, which is {redonions_pizzas/total_pizza_recipes*100}%.\")\n"
   ]
  },
  {
   "cell_type": "code",
   "execution_count": 21,
   "id": "f598f9df",
   "metadata": {},
   "outputs": [
    {
     "data": {
      "text/plain": [
       "0       2015-01-01\n",
       "1       2015-01-01\n",
       "2       2015-01-01\n",
       "3       2015-01-01\n",
       "4       2015-01-01\n",
       "           ...    \n",
       "48615   2015-12-31\n",
       "48616   2015-12-31\n",
       "48617   2015-12-31\n",
       "48618   2015-12-31\n",
       "48619   2015-12-31\n",
       "Name: order_date, Length: 48620, dtype: datetime64[ns]"
      ]
     },
     "execution_count": 21,
     "metadata": {},
     "output_type": "execute_result"
    }
   ],
   "source": [
    "df['order_date']"
   ]
  },
  {
   "cell_type": "code",
   "execution_count": 11,
   "id": "963cd34d",
   "metadata": {},
   "outputs": [
    {
     "data": {
      "text/plain": [
       "0        11:38:36\n",
       "1        11:57:40\n",
       "2        11:57:40\n",
       "3        11:57:40\n",
       "4        11:57:40\n",
       "           ...   \n",
       "48615    21:23:10\n",
       "48616    21:23:10\n",
       "48617    21:23:10\n",
       "48618    22:09:54\n",
       "48619    23:02:05\n",
       "Name: order_time, Length: 48620, dtype: object"
      ]
     },
     "execution_count": 11,
     "metadata": {},
     "output_type": "execute_result"
    }
   ],
   "source": [
    "df['order_time']"
   ]
  },
  {
   "cell_type": "code",
   "execution_count": 22,
   "id": "a140618e",
   "metadata": {},
   "outputs": [
    {
     "name": "stdout",
     "output_type": "stream",
     "text": [
      "hour\n",
      "9        4\n",
      "10      17\n",
      "11    2672\n",
      "12    6543\n",
      "13    6203\n",
      "14    3521\n",
      "15    3170\n",
      "16    4185\n",
      "17    5143\n",
      "18    5359\n",
      "19    4350\n",
      "20    3487\n",
      "21    2528\n",
      "22    1370\n",
      "23      68\n",
      "Name: count, dtype: int64\n"
     ]
    }
   ],
   "source": [
    "df['hour'] = pd.to_datetime(df['order_time'], format='%H:%M:%S').dt.hour\n",
    "hour_counts = df['hour'].value_counts().sort_index()\n",
    "print(hour_counts)"
   ]
  },
  {
   "cell_type": "code",
   "execution_count": 23,
   "id": "4694303d",
   "metadata": {},
   "outputs": [
    {
     "name": "stdout",
     "output_type": "stream",
     "text": [
      "weekday\n",
      "Friday       8106\n",
      "Monday       6369\n",
      "Saturday     7355\n",
      "Sunday       5917\n",
      "Thursday     7323\n",
      "Tuesday      6753\n",
      "Wednesday    6797\n",
      "Name: count, dtype: int64\n"
     ]
    }
   ],
   "source": [
    "df['weekday'] = df['order_date'].dt.day_name()\n",
    "weekday_counts = df['weekday'].value_counts(ascending=False).sort_index()\n",
    "print(weekday_counts)"
   ]
  },
  {
   "cell_type": "code",
   "execution_count": 24,
   "id": "9a7b9371",
   "metadata": {},
   "outputs": [
    {
     "data": {
      "image/png": "[encoded data removed]",
      "text/plain": [
       "<Figure size 1000x600 with 1 Axes>"
      ]
     },
     "metadata": {},
     "output_type": "display_data"
    }
   ],
   "source": [
    "plt.figure(figsize=(10,6))\n",
    "plt.bar(hour_counts.index, hour_counts.values, color='skyblue')\n",
    "plt.xlabel('Hour of Day')\n",
    "plt.ylabel('Number of Orders')\n",
    "plt.title('Number of Orders by Hour')\n",
    "plt.xticks(hour_counts.index)\n",
    "plt.show()"
   ]
  },
  {
   "cell_type": "code",
   "execution_count": 25,
   "id": "efadf711",
   "metadata": {},
   "outputs": [
    {
     "data": {
      "image/png": "[encoded data removed]",
      "text/plain": [
       "<Figure size 1000x600 with 1 Axes>"
      ]
     },
     "metadata": {},
     "output_type": "display_data"
    }
   ],
   "source": [
    "weekday_order = ['Monday', 'Tuesday', 'Wednesday', 'Thursday', 'Friday', 'Saturday', 'Sunday']\n",
    "\n",
    "weekday_counts_ordered = weekday_counts.reindex(weekday_order)\n",
    "plt.figure(figsize=(10,6))\n",
    "plt.bar(weekday_counts_ordered.index, weekday_counts_ordered.values, color='skyblue')\n",
    "plt.xlabel('Day of the Week')\n",
    "plt.ylabel('Number of Orders')\n",
    "plt.title('Number of Orders by Day')\n",
    "plt.xticks(weekday_counts_ordered.index)\n",
    "plt.show()"
   ]
  },
  {
   "cell_type": "code",
   "execution_count": 26,
   "id": "3b6fd211",
   "metadata": {},
   "outputs": [
    {
     "data": {
      "image/png": "[encoded data removed]",
      "text/plain": [
       "<Figure size 1400x600 with 2 Axes>"
      ]
     },
     "metadata": {},
     "output_type": "display_data"
    }
   ],
   "source": [
    "# Pivot table: rows=weekday, columns=hour, values=number of orders\n",
    "weekday_order = ['Monday', 'Tuesday', 'Wednesday', 'Thursday', 'Friday', 'Saturday', 'Sunday']\n",
    "heatmap_data = df.pivot_table(index='weekday', columns='hour', values='pizza_name', aggfunc='count').reindex(weekday_order)\n",
    "\n",
    "plt.figure(figsize=(14,6))\n",
    "sns.heatmap(heatmap_data, cmap='YlGnBu', linewidths=0.7, annot=False, fmt='g')\n",
    "plt.title('Number of Orders by Weekday and Hour')\n",
    "plt.xlabel('Hour of Day')\n",
    "plt.ylabel('Day of the Week')\n",
    "plt.show()"
   ]
  }
 ],
 "metadata": {
  "kernelspec": {
   "display_name": ".venv",
   "language": "python",
   "name": "python3"
  },
  "language_info": {
   "codemirror_mode": {
    "name": "ipython",
    "version": 3
   },
   "file_extension": ".py",
   "mimetype": "text/x-python",
   "name": "python",
   "nbconvert_exporter": "python",
   "pygments_lexer": "ipython3",
   "version": "3.13.2"
  }
 },
 "nbformat": 4,
 "nbformat_minor": 5
}
