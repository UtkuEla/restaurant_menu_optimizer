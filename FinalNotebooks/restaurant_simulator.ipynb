{
  "nbformat": 4,
  "nbformat_minor": 0,
  "metadata": {
    "colab": {
      "provenance": []
    },
    "kernelspec": {
      "name": "python3",
      "display_name": "Python 3"
    },
    "language_info": {
      "name": "python"
    }
  },
  "cells": [
    {
      "cell_type": "code",
      "execution_count": null,
      "metadata": {
        "id": "s1B-J_JeMNGk"
      },
      "outputs": [],
      "source": [
        "import pandas as pd\n",
        "import numpy as np\n",
        "from datetime import datetime, timedelta, date\n",
        "import math"
      ]
    },
    {
      "cell_type": "code",
      "source": [
        "df = pd.read_excel('/content/Data Model - Pizza Sales.xlsx')"
      ],
      "metadata": {
        "id": "rBhj8gv9NOUV"
      },
      "execution_count": null,
      "outputs": []
    },
    {
      "cell_type": "code",
      "source": [
        "df.to_parquet('pizza_dataset.parquet')"
      ],
      "metadata": {
        "id": "CtNKj7_kQLEm"
      },
      "execution_count": null,
      "outputs": []
    },
    {
      "cell_type": "code",
      "source": [
        "df = pd.read_parquet('pizza_dataset.parquet')"
      ],
      "metadata": {
        "id": "ALLXhmn54PHt"
      },
      "execution_count": null,
      "outputs": []
    },
    {
      "cell_type": "code",
      "source": [
        "df.head()"
      ],
      "metadata": {
        "id": "mx9Yx7QH5gzy"
      },
      "execution_count": null,
      "outputs": []
    },
    {
      "cell_type": "code",
      "source": [
        "df.drop(columns=['order_details_id', 'order_id', 'pizza_id', 'order_time', 'pizza_category'], inplace= True)"
      ],
      "metadata": {
        "id": "q_vWXrMw5koY"
      },
      "execution_count": null,
      "outputs": []
    },
    {
      "cell_type": "code",
      "source": [
        "df.order_date = pd.to_datetime(df.order_date)"
      ],
      "metadata": {
        "id": "Z7P3Tn8B6EmY"
      },
      "execution_count": null,
      "outputs": []
    },
    {
      "cell_type": "code",
      "source": [
        "df.head()"
      ],
      "metadata": {
        "id": "z65k6GMp6G5T"
      },
      "execution_count": null,
      "outputs": []
    },
    {
      "cell_type": "code",
      "source": [
        "df = df.groupby(['pizza_name', 'order_date' , 'pizza_size' , 'pizza_ingredients', 'unit_price'])['quantity'].sum().reset_index()"
      ],
      "metadata": {
        "id": "iC4vdB2A6G2s"
      },
      "execution_count": null,
      "outputs": []
    },
    {
      "cell_type": "markdown",
      "source": [
        "# Extract Ingredients"
      ],
      "metadata": {
        "id": "umWFBlTLRezD"
      }
    },
    {
      "cell_type": "code",
      "source": [
        "def build_detailed_recipes(df, sizes=('S','M','L')):\n",
        "    size_mult = {'S': 0.7, 'M': 1.0, 'L': 1.4}\n",
        "    dough_by_size = {'S': 180, 'M': 260, 'L': 350}\n",
        "    cheese_overrides = {\n",
        "        'Mozzarella Cheese': 120, 'Provolone Cheese': 60, 'Smoked Gouda Cheese': 60, 'Romano Cheese': 40,\n",
        "        'Blue Cheese': 40, 'Brie Carre Cheese': 50, 'Fontina Cheese': 60, 'Gouda Cheese': 60,\n",
        "        'Asiago Cheese': 50, 'Parmigiano Reggiano Cheese': 25, 'Ricotta Cheese': 60, 'Feta Cheese': 60,\n",
        "        'Goat Cheese': 50, 'Gorgonzola Piccante Cheese': 50\n",
        "    }\n",
        "    sauce_overrides = {\n",
        "        'Barbecue Sauce': 50, 'Alfredo Sauce': 60, 'Pesto Sauce': 40, 'Chipotle Sauce': 40, 'Thai Sweet Chilli Sauce': 40\n",
        "    }\n",
        "    meat_overrides = {\n",
        "        'Pepperoni': 70, 'Bacon': 50, 'Chicken': 90, 'Prosciutto': 40, 'Sliced Ham': 50, 'Chorizo Sausage': 80,\n",
        "        'Italian Sausage': 80, 'Pancetta': 40, 'Calabrese Salami': 80, 'Capocollo': 70, 'Genoa Salami': 70,\n",
        "        'Soppressata Salami': 80, 'Coarse Sicilian Salami': 80, 'Luganega Sausage': 80, 'Barbecued Chicken': 90,\n",
        "        'Beef Chuck Roast': 90, 'Prosciutto di San Daniele': 40, '慛duja Salami': 70\n",
        "    }\n",
        "    veg_overrides = {\n",
        "        'Tomatoes': 60, 'Plum Tomatoes': 60, 'Red Peppers': 40, 'Green Peppers': 40, 'Red Onions': 30, 'Onions': 30,\n",
        "        'Mushrooms': 70, 'Spinach': 40, 'Corn': 40, 'Artichoke': 40, 'Artichokes': 40, 'Eggplant': 60, 'Zucchini': 40,\n",
        "        'Pineapple': 80, 'Jalapeno Peppers': 25, 'Green Olives': 30, 'Kalamata Olives': 30, 'Sun-dried Tomatoes': 25,\n",
        "        'Cilantro': 5, 'Arugula': 20, 'Pears': 50, 'Peperoncini verdi': 20, 'Anchovies': 15, 'Garlic': 5,\n",
        "        'Caramelized Onions': 30\n",
        "    }\n",
        "\n",
        "    def get_base_qty(ing):\n",
        "        il = ing.strip()\n",
        "        if il in cheese_overrides:\n",
        "            return cheese_overrides[il]\n",
        "        if il in sauce_overrides:\n",
        "            return sauce_overrides[il]\n",
        "        if il in meat_overrides:\n",
        "            return meat_overrides[il]\n",
        "        if il in veg_overrides:\n",
        "            return veg_overrides[il]\n",
        "        l = il.lower()\n",
        "        if 'cheese' in l:\n",
        "            return 80\n",
        "        if 'sauce' in l or any(k in l for k in ['chipotle', 'pesto', 'alfredo', 'thai', 'barbecue']):\n",
        "            return 50\n",
        "        for k in ['chicken', 'bacon', 'salami', 'sausage', 'pepperoni', 'ham', 'prosciutto', 'beef', 'pancetta', 'capocollo']:\n",
        "            if k in l:\n",
        "                return 70\n",
        "        for k in ['pepper', 'tomato', 'mushroom', 'onion', 'spinach', 'corn', 'artich', 'eggplant', 'pineapple', 'olive', 'cilantro', 'zucchini', 'pear', 'anchovi']:\n",
        "            if k in l:\n",
        "                return 40\n",
        "        if 'garlic' in l:\n",
        "            return 5\n",
        "        return 30\n",
        "\n",
        "    pizza_ingredients = (\n",
        "        df.groupby(\"pizza_name\")[\"pizza_ingredients\"]\n",
        "        .apply(lambda x: set(\", \".join(x).split(\", \")))\n",
        "        .to_dict()\n",
        "    )\n",
        "\n",
        "    recipes = {}\n",
        "    for pizza, ings in pizza_ingredients.items():\n",
        "        recipes[pizza] = {}\n",
        "        for size in sizes:\n",
        "            recipes[pizza][size] = {}\n",
        "            recipes[pizza][size]['dough'] = dough_by_size[size]\n",
        "            for ing in sorted(ings):\n",
        "                base = get_base_qty(ing)\n",
        "                qty = int(round(base * size_mult[size]))\n",
        "                recipes[pizza][size][ing] = qty\n",
        "    return recipes\n"
      ],
      "metadata": {
        "id": "bCi-q9ZjRbxC"
      },
      "execution_count": null,
      "outputs": []
    },
    {
      "cell_type": "code",
      "source": [
        "recipes = build_detailed_recipes(df)"
      ],
      "metadata": {
        "id": "sUVmLtELQiUi"
      },
      "execution_count": null,
      "outputs": []
    },
    {
      "cell_type": "code",
      "source": [
        "recipes"
      ],
      "metadata": {
        "id": "JhlukGVc7lA7"
      },
      "execution_count": null,
      "outputs": []
    },
    {
      "cell_type": "code",
      "source": [
        "df.drop(columns = ['pizza_ingredients'], inplace = True)"
      ],
      "metadata": {
        "id": "gjaxSOwd80dT"
      },
      "execution_count": null,
      "outputs": []
    },
    {
      "cell_type": "code",
      "source": [
        "df = df[df['pizza_size'].isin(['S', 'M', 'L'])]"
      ],
      "metadata": {
        "id": "UnqKKbWR_BJ7"
      },
      "execution_count": null,
      "outputs": []
    },
    {
      "cell_type": "markdown",
      "source": [
        "# Handling Time-Series Data"
      ],
      "metadata": {
        "id": "b3b98g70SQJ7"
      }
    },
    {
      "cell_type": "code",
      "source": [
        "def calculate_demand_per_day(df, recipes, start_date='2015-01-01', period=1):\n",
        "    start_date = pd.to_datetime(start_date)\n",
        "    end_date = start_date + timedelta(days=period)\n",
        "    df_period = df[(df['order_date'] >= start_date) & (df['order_date'] < end_date)]\n",
        "\n",
        "    pizza_demand = df_period.groupby(['order_date', 'pizza_name', 'pizza_size']).agg({'quantity': 'sum'}).reset_index()\n",
        "\n",
        "    demand_per_day = {}\n",
        "    for _, row in pizza_demand.iterrows():\n",
        "        pizza, size, quantity = row['pizza_name'], row['pizza_size'], row['quantity']\n",
        "        recipe = recipes[pizza][size]  # recipe is a dict {ingredient: qty_per_pizza}\n",
        "\n",
        "        for ingredient, qty_per_pizza in recipe.items():\n",
        "            if ingredient not in demand_per_day:\n",
        "                demand_per_day[ingredient] = 0\n",
        "            demand_per_day[ingredient] += quantity * qty_per_pizza\n",
        "\n",
        "    return demand_per_day\n"
      ],
      "metadata": {
        "id": "8_uEvhct8uHZ"
      },
      "execution_count": null,
      "outputs": []
    },
    {
      "cell_type": "code",
      "source": [
        "def compute_stock_from_demand(df, recipes, ingredient='all', start_date='2015-01-01', window_days=14, multiplier=0.5):\n",
        "\n",
        "    demand = calculate_demand_per_day(df, recipes, start_date=start_date, period=window_days)\n",
        "\n",
        "    if ingredient == 'all':\n",
        "        for ing in demand:\n",
        "            demand[ing] *= multiplier\n",
        "        return demand\n",
        "    else:\n",
        "        if ingredient in demand:\n",
        "            return {ingredient: demand[ingredient] * multiplier}\n",
        "        else:\n",
        "            return {ingredient: 0}  # return 0 if ingredient not in demand\n"
      ],
      "metadata": {
        "id": "b8GR5sow5OLb"
      },
      "execution_count": null,
      "outputs": []
    },
    {
      "cell_type": "code",
      "source": [
        "initial_stock = compute_stock_from_demand(df, recipes,ingredient='all', window_days=14, multiplier= 0.5)"
      ],
      "metadata": {
        "id": "-6X_2w3A5VSO"
      },
      "execution_count": null,
      "outputs": []
    },
    {
      "cell_type": "code",
      "source": [
        "def optimize_multipliers(multipliers, avg_demand, waste, stockout):\n",
        "    for ing in multipliers:\n",
        "        if stockout[ing] > 0:\n",
        "            multipliers[ing] *= 1 + min(0.5, stockout[ing] / (avg_demand[ing] * 7 + 1e-6))\n",
        "        elif waste[ing] > 0:\n",
        "            multipliers[ing] *= 1 - min(0.5, waste[ing] / (avg_demand[ing] * 7 + 1e-6))\n",
        "    return multipliers"
      ],
      "metadata": {
        "id": "dgWGOSUk9_Ig"
      },
      "execution_count": null,
      "outputs": []
    },
    {
      "cell_type": "markdown",
      "source": [
        "# Simulation"
      ],
      "metadata": {
        "id": "8q1NmFOuELEQ"
      }
    },
    {
      "cell_type": "code",
      "source": [
        "def run_simulation(df, recipes, initial_stock, start_date='2015-01-01', history_days=28):\n",
        "    start_date = pd.to_datetime(start_date)\n",
        "\n",
        "    # Initialize stock and multipliers\n",
        "    stock = initial_stock.copy()\n",
        "    multipliers = {ing: 1.0 for ing in stock.keys()}\n",
        "\n",
        "    week = 0\n",
        "    history = []\n",
        "\n",
        "    while True:\n",
        "        week += 1\n",
        "        print(f\"\\n=== Week {week} Report ===\")\n",
        "\n",
        "        inventory_start = stock.copy()\n",
        "\n",
        "        demand_week = calculate_demand_per_day(df, recipes, start_date=start_date, period=7)\n",
        "\n",
        "        waste = {}\n",
        "        stockout = {}\n",
        "        demand_fulfilled = {}\n",
        "        multipliers_prev = multipliers.copy()\n",
        "\n",
        "        for ing in multipliers:\n",
        "            available = stock.get(ing, 0)\n",
        "            required = demand_week.get(ing, 0)\n",
        "            if available >= required:\n",
        "                demand_fulfilled[ing] = required\n",
        "                stock[ing] -= required\n",
        "                stockout[ing] = 0\n",
        "            else:\n",
        "                demand_fulfilled[ing] = available\n",
        "                stockout[ing] = required - available\n",
        "                stock[ing] = 0\n",
        "\n",
        "        for ing in multipliers:\n",
        "            waste[ing] = stock.get(ing, 0)\n",
        "\n",
        "        history.append(demand_week)\n",
        "        if len(history) > history_days // 7:  # history in weeks\n",
        "            history.pop(0)\n",
        "\n",
        "        avg_demand = {}\n",
        "        for ing in multipliers:\n",
        "            total = sum(h.get(ing, 0) for h in history)\n",
        "            avg_demand[ing] = total / 7 / len(history) if history else 0\n",
        "\n",
        "        multipliers = optimize_multipliers(multipliers, avg_demand, waste, stockout)\n",
        "\n",
        "        shopping_list = {ing: avg_demand[ing] * 7 * multipliers[ing] for ing in multipliers}\n",
        "        for ing, qty in shopping_list.items():\n",
        "            stock[ing] = qty  # stock for next week = shopping list\n",
        "\n",
        "        print(f\"Inventory at start: {inventory_start}\")\n",
        "        print(f\"Demand this week: {demand_week}\")\n",
        "        print(f\"Demand fulfilled: {demand_fulfilled}\")\n",
        "        print(f\"Stockout (lost demand): {stockout}\")\n",
        "        print(f\"Waste (expired stock): {waste}\")\n",
        "\n",
        "        print(\"\\n--- Multipliers ---\")\n",
        "        for ing in multipliers:\n",
        "            print(f\"{ing}: prev={multipliers_prev[ing]:.2f}, new={multipliers[ing]:.2f}\")\n",
        "\n",
        "        print(f\"\\nShopping list for next week: {shopping_list}\")\n",
        "\n",
        "        start_date += timedelta(days=7)\n",
        "\n",
        "        cont = input(\"Press Enter to simulate next week (or type 'q' to quit): \")\n",
        "        if cont.lower() == 'q':\n",
        "            break\n"
      ],
      "metadata": {
        "id": "YsoTWDeI-HMW"
      },
      "execution_count": null,
      "outputs": []
    },
    {
      "cell_type": "code",
      "source": [
        "run_simulation(df, recipes, initial_stock, start_date='2015-01-01', history_days=366)"
      ],
      "metadata": {
        "id": "UpUMoHOS-HG_"
      },
      "execution_count": null,
      "outputs": []
    },
    {
      "cell_type": "code",
      "source": [],
      "metadata": {
        "id": "A42hEPxOD6v5"
      },
      "execution_count": null,
      "outputs": []
    }
  ]
}